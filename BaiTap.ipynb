{
 "cells": [
  {
   "cell_type": "code",
   "execution_count": 64,
   "metadata": {},
   "outputs": [
    {
     "name": "stdout",
     "output_type": "stream",
     "text": [
      "['10000', '10001', '10010', '10011', '10100', '10101', '10110', '10111', '11000', '11001', '11010', '11011', '11100', '11101', '11110', '11111']\n"
     ]
    }
   ],
   "source": [
    "def findAllNLengthRec(set, _prefix, n, result): \n",
    "    if (n == 0) : \n",
    "        result.append(_prefix)\n",
    "        return\n",
    "    for i in set:\n",
    "        _newPrefix = _prefix + i\n",
    "        findAllNLengthRec(set, _newPrefix, n - 1, result) \n",
    "        \n",
    "def findAllNLength(set, n):\n",
    "    get_all = [];\n",
    "    result = [];\n",
    "    findAllNLengthRec(set, \"\", n, get_all)\n",
    "    for item in get_all:\n",
    "        if(item[0] != \"0\"):\n",
    "            result.append(item)\n",
    "    return result\n",
    "\n",
    "print(findAllNLength([\"0\",\"1\"], 5))"
   ]
  },
  {
   "cell_type": "code",
   "execution_count": 65,
   "metadata": {},
   "outputs": [
    {
     "name": "stdout",
     "output_type": "stream",
     "text": [
      "t^2 + 1\n",
      "t^2 + t + 2\n",
      "t^2 + 2*t + 2\n",
      "2*t^2 + 2\n",
      "2*t^2 + t + 1\n",
      "2*t^2 + 2*t + 1\n"
     ]
    }
   ],
   "source": [
    "# Input: p - p^n phần tử, k - bậc của f\n",
    "# Output: Các đa thức bất khả quy\n",
    "def findIrreduciblePoly(p,k): \n",
    "    # Tạo dãy 0 đến p-1\n",
    "    list_p = [str(i) for i in range(p)]\n",
    "    # Lấy các tổ hợp có thể có \n",
    "    he_so = findAllKLength(list_p, k + 1)\n",
    "    # Tìm đa thức bất khả quy\n",
    "    R = GF(p)['t']\n",
    "    x = R.gen()\n",
    "    f = []\n",
    "    for i in range(len(he_so)):\n",
    "        poly = 0\n",
    "        for j in range(k+1):\n",
    "            poly += int(he_so[i][j])*x^(k-j)\n",
    "        if poly.is_irreducible():\n",
    "            print(poly)\n",
    "\n",
    "findIrreduciblePoly(3,2)"
   ]
  },
  {
   "cell_type": "code",
   "execution_count": 66,
   "metadata": {},
   "outputs": [
    {
     "name": "stdout",
     "output_type": "stream",
     "text": [
      "0\n",
      "t\n",
      "t + 1\n",
      "2*t + 1\n",
      "2\n",
      "2*t\n",
      "2*t + 2\n",
      "t + 2\n",
      "1\n"
     ]
    }
   ],
   "source": [
    "F.<t> = GF(3^2)\n",
    "for i,a in enumerate(F):  \n",
    "    print(a)"
   ]
  },
  {
   "cell_type": "code",
   "execution_count": 67,
   "metadata": {},
   "outputs": [],
   "source": [
    "# Kiểm tra bậc 2 đa thức\n",
    "def check_degree(poly1, poly2, k):\n",
    "    return poly1.degree() <= k.degree() and poly2.degree() <= k.degree() \n",
    "\n",
    "def addition(poly1, poly2, f):\n",
    "    if check_degree(poly1, poly2, f):\n",
    "        return (poly1 + poly2).mod(f)\n",
    "    return False\n",
    "\n",
    "def multiplication(poly1, poly2, f):\n",
    "    if check_degree(poly1, poly2, f):\n",
    "        return (poly1 * poly2).mod(f)\n",
    "    return False"
   ]
  },
  {
   "cell_type": "code",
   "execution_count": 68,
   "metadata": {},
   "outputs": [],
   "source": [
    "R.<t> = GF(3^2)[]\n",
    "p1  = t\n",
    "p2  = t + 1\n",
    "pe  = t^2 + 2*t + 2"
   ]
  },
  {
   "cell_type": "code",
   "execution_count": 69,
   "metadata": {},
   "outputs": [
    {
     "data": {
      "text/plain": [
       "2*t + 1"
      ]
     },
     "execution_count": 69,
     "metadata": {},
     "output_type": "execute_result"
    }
   ],
   "source": [
    "addition(p1,p2,pe)"
   ]
  },
  {
   "cell_type": "code",
   "execution_count": 70,
   "metadata": {},
   "outputs": [
    {
     "data": {
      "text/plain": [
       "2*t + 1"
      ]
     },
     "execution_count": 70,
     "metadata": {},
     "output_type": "execute_result"
    }
   ],
   "source": [
    "multiplication(p1,p2,pe)"
   ]
  },
  {
   "cell_type": "code",
   "execution_count": 71,
   "metadata": {},
   "outputs": [
    {
     "name": "stdout",
     "output_type": "stream",
     "text": [
      "Elliptic Curve defined by y^2 = x^3 + 2*x + 1 over Rational Field\n",
      "(0 : -1 : 1)\n",
      "(8 : 23 : 1)\n"
     ]
    }
   ],
   "source": [
    "E = EllipticCurve([0,0,0,2,1])\n",
    "print(E)\n",
    "A = E(0,1)\n",
    "B = E(1,2)\n",
    "def add(A, B):\n",
    "    return A+B\n",
    "def multiply(A,n):\n",
    "    return A*n\n",
    "print(add(A,B))\n",
    "print(multiply(A,3))"
   ]
  },
  {
   "cell_type": "code",
   "execution_count": 72,
   "metadata": {},
   "outputs": [],
   "source": [
    "def tradeKey(G,E,m,n):\n",
    "    mG = m*G\n",
    "    nG = n*G\n",
    "    print(n*mG == m*nG)"
   ]
  },
  {
   "cell_type": "code",
   "execution_count": 73,
   "metadata": {},
   "outputs": [
    {
     "name": "stdout",
     "output_type": "stream",
     "text": [
      "Elliptic Curve defined by y^2 = x^3 + 2*x + 1 over Rational Field\n",
      "True\n"
     ]
    }
   ],
   "source": [
    "E = EllipticCurve([0,0,0,2,1])\n",
    "print(E)\n",
    "G = E(1,2)\n",
    "tradeKey(G,E,2,5)"
   ]
  },
  {
   "cell_type": "code",
   "execution_count": null,
   "metadata": {},
   "outputs": [],
   "source": []
  }
 ],
 "metadata": {
  "kernelspec": {
   "display_name": "SageMath 9.0",
   "language": "sage",
   "name": "sagemath"
  },
  "language_info": {
   "codemirror_mode": {
    "name": "ipython",
    "version": 3
   },
   "file_extension": ".py",
   "mimetype": "text/x-python",
   "name": "python",
   "nbconvert_exporter": "python",
   "pygments_lexer": "ipython3",
   "version": "3.7.3"
  }
 },
 "nbformat": 4,
 "nbformat_minor": 2
}
